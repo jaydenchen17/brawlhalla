{
 "cells": [
  {
   "cell_type": "markdown",
   "metadata": {},
   "source": [
    "---\n",
    "toc: False\n",
    "comments: True\n",
    "layout: post\n",
    "title: Trimester 3 Team Plan\n",
    "type: tangibles\n",
    "courses: {'compsci': {'week': 3}}\n",
    "---"
   ]
  },
  {
   "cell_type": "markdown",
   "metadata": {},
   "source": [
    "# Initial Plans for Machine Learning Project\n",
    "- Create ML project with team modeled after Titanic simulation\n",
    "- Take 2021 College Board MC and create reflection after. Review with teacher and do popcorn hacks for missed questions.\n",
    "- Study for deployment quiz\n",
    "- Start Data Structures project"
   ]
  },
  {
   "cell_type": "markdown",
   "metadata": {},
   "source": [
    "# Final Project Plans\n",
    "- Incorporate LEBRON Stat prediction algorithm for \"predicted stats\" category each matchup\n",
    "- Finish the prizepicks simulator by implementing an interactice currency system that allows the user to successfully wager a selected amount of money and either win or lose based on a three leg parlay.\n",
    "- Improve aesthetics by theming the website more LeBron focused\n",
    "- Add algorithm to track the user's balance\n",
    "- fix algorithm for simulate game to save user balance and move to next matchup"
   ]
  }
 ],
 "metadata": {
  "language_info": {
   "name": "python"
  },
  "orig_nbformat": 4
 },
 "nbformat": 4,
 "nbformat_minor": 2
}
