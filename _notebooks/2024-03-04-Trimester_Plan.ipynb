{
 "cells": [
  {
   "cell_type": "markdown",
   "metadata": {},
   "source": [
    "---\n",
    "toc: false\n",
    "comments: true\n",
    "layout: post\n",
    "title: Trimester 3 Team Plan\n",
    "type: tangibles\n",
    "courses: { compsci: {week: 3} }\n",
    "---"
   ]
  },
  {
   "cell_type": "markdown",
   "metadata": {},
   "source": [
    "- Create ML project with team modeled after Titanic simulation\n",
    "- Take 2021 College Board MC and create reflection after. Review with teacher and do popcorn hacks for missed questions.\n",
    "- Study for deployment quiz\n",
    "- Start Data Structures project"
   ]
  }
 ],
 "metadata": {
  "language_info": {
   "name": "python"
  },
  "orig_nbformat": 4
 },
 "nbformat": 4,
 "nbformat_minor": 2
}
